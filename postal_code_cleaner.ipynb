{
 "cells": [
  {
   "cell_type": "code",
   "execution_count": 62,
   "metadata": {},
   "outputs": [],
   "source": [
    "import re\n",
    "import pandas as pd"
   ]
  },
  {
   "cell_type": "code",
   "execution_count": 63,
   "metadata": {},
   "outputs": [],
   "source": [
    "file = input(\"Enter your relative filepath : \")"
   ]
  },
  {
   "cell_type": "code",
   "execution_count": 104,
   "metadata": {},
   "outputs": [
    {
     "name": "stdout",
     "output_type": "stream",
     "text": [
      "postalCodes    object\n",
      "dtype: object\n"
     ]
    },
    {
     "data": {
      "text/html": [
       "<div>\n",
       "<style scoped>\n",
       "    .dataframe tbody tr th:only-of-type {\n",
       "        vertical-align: middle;\n",
       "    }\n",
       "\n",
       "    .dataframe tbody tr th {\n",
       "        vertical-align: top;\n",
       "    }\n",
       "\n",
       "    .dataframe thead th {\n",
       "        text-align: right;\n",
       "    }\n",
       "</style>\n",
       "<table border=\"1\" class=\"dataframe\">\n",
       "  <thead>\n",
       "    <tr style=\"text-align: right;\">\n",
       "      <th></th>\n",
       "      <th>postalCodes</th>\n",
       "    </tr>\n",
       "  </thead>\n",
       "  <tbody>\n",
       "    <tr>\n",
       "      <th>0</th>\n",
       "      <td>K0E1X0</td>\n",
       "    </tr>\n",
       "    <tr>\n",
       "      <th>1</th>\n",
       "      <td>KOE1X0</td>\n",
       "    </tr>\n",
       "    <tr>\n",
       "      <th>2</th>\n",
       "      <td>K0E1XO</td>\n",
       "    </tr>\n",
       "    <tr>\n",
       "      <th>3</th>\n",
       "      <td>KoE1Xo</td>\n",
       "    </tr>\n",
       "  </tbody>\n",
       "</table>\n",
       "</div>"
      ],
      "text/plain": [
       "  postalCodes\n",
       "0      K0E1X0\n",
       "1      KOE1X0\n",
       "2      K0E1XO\n",
       "3      KoE1Xo"
      ]
     },
     "execution_count": 104,
     "metadata": {},
     "output_type": "execute_result"
    }
   ],
   "source": [
    "df = pd.read_csv(file)\n",
    "print(df.dtypes)\n",
    "df"
   ]
  },
  {
   "cell_type": "code",
   "execution_count": 105,
   "metadata": {},
   "outputs": [],
   "source": [
    "df['postalCodes'] = df.postalCodes.str.lower()"
   ]
  },
  {
   "cell_type": "code",
   "execution_count": 106,
   "metadata": {},
   "outputs": [
    {
     "name": "stdout",
     "output_type": "stream",
     "text": [
      "let1    object\n",
      "Num1    object\n",
      "Let2    object\n",
      "Num2    object\n",
      "Let3    object\n",
      "Num3    object\n",
      "dtype: object\n"
     ]
    },
    {
     "data": {
      "text/html": [
       "<div>\n",
       "<style scoped>\n",
       "    .dataframe tbody tr th:only-of-type {\n",
       "        vertical-align: middle;\n",
       "    }\n",
       "\n",
       "    .dataframe tbody tr th {\n",
       "        vertical-align: top;\n",
       "    }\n",
       "\n",
       "    .dataframe thead th {\n",
       "        text-align: right;\n",
       "    }\n",
       "</style>\n",
       "<table border=\"1\" class=\"dataframe\">\n",
       "  <thead>\n",
       "    <tr style=\"text-align: right;\">\n",
       "      <th></th>\n",
       "      <th>let1</th>\n",
       "      <th>Num1</th>\n",
       "      <th>Let2</th>\n",
       "      <th>Num2</th>\n",
       "      <th>Let3</th>\n",
       "      <th>Num3</th>\n",
       "    </tr>\n",
       "  </thead>\n",
       "  <tbody>\n",
       "    <tr>\n",
       "      <th>0</th>\n",
       "      <td>k</td>\n",
       "      <td>0</td>\n",
       "      <td>e</td>\n",
       "      <td>1</td>\n",
       "      <td>x</td>\n",
       "      <td>0</td>\n",
       "    </tr>\n",
       "    <tr>\n",
       "      <th>1</th>\n",
       "      <td>k</td>\n",
       "      <td>o</td>\n",
       "      <td>e</td>\n",
       "      <td>1</td>\n",
       "      <td>x</td>\n",
       "      <td>0</td>\n",
       "    </tr>\n",
       "    <tr>\n",
       "      <th>2</th>\n",
       "      <td>k</td>\n",
       "      <td>0</td>\n",
       "      <td>e</td>\n",
       "      <td>1</td>\n",
       "      <td>x</td>\n",
       "      <td>o</td>\n",
       "    </tr>\n",
       "    <tr>\n",
       "      <th>3</th>\n",
       "      <td>k</td>\n",
       "      <td>o</td>\n",
       "      <td>e</td>\n",
       "      <td>1</td>\n",
       "      <td>x</td>\n",
       "      <td>o</td>\n",
       "    </tr>\n",
       "  </tbody>\n",
       "</table>\n",
       "</div>"
      ],
      "text/plain": [
       "  let1 Num1 Let2 Num2 Let3 Num3\n",
       "0    k    0    e    1    x    0\n",
       "1    k    o    e    1    x    0\n",
       "2    k    0    e    1    x    o\n",
       "3    k    o    e    1    x    o"
      ]
     },
     "execution_count": 106,
     "metadata": {},
     "output_type": "execute_result"
    }
   ],
   "source": [
    "df2 = df['postalCodes'].str.extract(r'(?P<let1>\\w)(?P<Num1>\\w)(?P<Let2>\\w)(?P<Num2>\\w)(?P<Let3>\\w)(?P<Num3>\\w)')\n",
    "print(df2.dtypes)\n",
    "df2"
   ]
  },
  {
   "cell_type": "code",
   "execution_count": 107,
   "metadata": {},
   "outputs": [
    {
     "name": "stdout",
     "output_type": "stream",
     "text": [
      "postalCodes    object\n",
      "let1           object\n",
      "Num1           object\n",
      "Let2           object\n",
      "Num2           object\n",
      "Let3           object\n",
      "Num3           object\n",
      "dtype: object\n"
     ]
    },
    {
     "data": {
      "text/html": [
       "<div>\n",
       "<style scoped>\n",
       "    .dataframe tbody tr th:only-of-type {\n",
       "        vertical-align: middle;\n",
       "    }\n",
       "\n",
       "    .dataframe tbody tr th {\n",
       "        vertical-align: top;\n",
       "    }\n",
       "\n",
       "    .dataframe thead th {\n",
       "        text-align: right;\n",
       "    }\n",
       "</style>\n",
       "<table border=\"1\" class=\"dataframe\">\n",
       "  <thead>\n",
       "    <tr style=\"text-align: right;\">\n",
       "      <th></th>\n",
       "      <th>postalCodes</th>\n",
       "      <th>let1</th>\n",
       "      <th>Num1</th>\n",
       "      <th>Let2</th>\n",
       "      <th>Num2</th>\n",
       "      <th>Let3</th>\n",
       "      <th>Num3</th>\n",
       "    </tr>\n",
       "  </thead>\n",
       "  <tbody>\n",
       "    <tr>\n",
       "      <th>0</th>\n",
       "      <td>k0e1x0</td>\n",
       "      <td>k</td>\n",
       "      <td>0</td>\n",
       "      <td>e</td>\n",
       "      <td>1</td>\n",
       "      <td>x</td>\n",
       "      <td>0</td>\n",
       "    </tr>\n",
       "    <tr>\n",
       "      <th>1</th>\n",
       "      <td>koe1x0</td>\n",
       "      <td>k</td>\n",
       "      <td>o</td>\n",
       "      <td>e</td>\n",
       "      <td>1</td>\n",
       "      <td>x</td>\n",
       "      <td>0</td>\n",
       "    </tr>\n",
       "    <tr>\n",
       "      <th>2</th>\n",
       "      <td>k0e1xo</td>\n",
       "      <td>k</td>\n",
       "      <td>0</td>\n",
       "      <td>e</td>\n",
       "      <td>1</td>\n",
       "      <td>x</td>\n",
       "      <td>o</td>\n",
       "    </tr>\n",
       "    <tr>\n",
       "      <th>3</th>\n",
       "      <td>koe1xo</td>\n",
       "      <td>k</td>\n",
       "      <td>o</td>\n",
       "      <td>e</td>\n",
       "      <td>1</td>\n",
       "      <td>x</td>\n",
       "      <td>o</td>\n",
       "    </tr>\n",
       "  </tbody>\n",
       "</table>\n",
       "</div>"
      ],
      "text/plain": [
       "  postalCodes let1 Num1 Let2 Num2 Let3 Num3\n",
       "0      k0e1x0    k    0    e    1    x    0\n",
       "1      koe1x0    k    o    e    1    x    0\n",
       "2      k0e1xo    k    0    e    1    x    o\n",
       "3      koe1xo    k    o    e    1    x    o"
      ]
     },
     "execution_count": 107,
     "metadata": {},
     "output_type": "execute_result"
    }
   ],
   "source": [
    "df = pd.concat([df, df2], axis=1)\n",
    "print(df.dtypes)\n",
    "df"
   ]
  },
  {
   "cell_type": "code",
   "execution_count": 108,
   "metadata": {},
   "outputs": [],
   "source": [
    "columnKeys = [\"Let1\",\"Num1\",\"Let2\",\"Num2\",\"Let3\",\"Num3\"]"
   ]
  },
  {
   "cell_type": "code",
   "execution_count": 110,
   "metadata": {},
   "outputs": [
    {
     "data": {
      "text/html": [
       "<div>\n",
       "<style scoped>\n",
       "    .dataframe tbody tr th:only-of-type {\n",
       "        vertical-align: middle;\n",
       "    }\n",
       "\n",
       "    .dataframe tbody tr th {\n",
       "        vertical-align: top;\n",
       "    }\n",
       "\n",
       "    .dataframe thead th {\n",
       "        text-align: right;\n",
       "    }\n",
       "</style>\n",
       "<table border=\"1\" class=\"dataframe\">\n",
       "  <thead>\n",
       "    <tr style=\"text-align: right;\">\n",
       "      <th></th>\n",
       "      <th>postalCodes</th>\n",
       "      <th>let1</th>\n",
       "      <th>Num1</th>\n",
       "      <th>Let2</th>\n",
       "      <th>Num2</th>\n",
       "      <th>Let3</th>\n",
       "      <th>Num3</th>\n",
       "      <th>cleaned</th>\n",
       "    </tr>\n",
       "  </thead>\n",
       "  <tbody>\n",
       "    <tr>\n",
       "      <th>0</th>\n",
       "      <td>k0e1x0</td>\n",
       "      <td>k</td>\n",
       "      <td>0</td>\n",
       "      <td>e</td>\n",
       "      <td>1</td>\n",
       "      <td>x</td>\n",
       "      <td>0</td>\n",
       "      <td>K0E1X0</td>\n",
       "    </tr>\n",
       "    <tr>\n",
       "      <th>1</th>\n",
       "      <td>koe1x0</td>\n",
       "      <td>k</td>\n",
       "      <td>o</td>\n",
       "      <td>e</td>\n",
       "      <td>1</td>\n",
       "      <td>x</td>\n",
       "      <td>0</td>\n",
       "      <td>KOE1X0</td>\n",
       "    </tr>\n",
       "    <tr>\n",
       "      <th>2</th>\n",
       "      <td>k0e1xo</td>\n",
       "      <td>k</td>\n",
       "      <td>0</td>\n",
       "      <td>e</td>\n",
       "      <td>1</td>\n",
       "      <td>x</td>\n",
       "      <td>o</td>\n",
       "      <td>K0E1XO</td>\n",
       "    </tr>\n",
       "    <tr>\n",
       "      <th>3</th>\n",
       "      <td>koe1xo</td>\n",
       "      <td>k</td>\n",
       "      <td>o</td>\n",
       "      <td>e</td>\n",
       "      <td>1</td>\n",
       "      <td>x</td>\n",
       "      <td>o</td>\n",
       "      <td>KOE1XO</td>\n",
       "    </tr>\n",
       "  </tbody>\n",
       "</table>\n",
       "</div>"
      ],
      "text/plain": [
       "  postalCodes let1 Num1 Let2 Num2 Let3 Num3 cleaned\n",
       "0      k0e1x0    k    0    e    1    x    0  K0E1X0\n",
       "1      koe1x0    k    o    e    1    x    0  KOE1X0\n",
       "2      k0e1xo    k    0    e    1    x    o  K0E1XO\n",
       "3      koe1xo    k    o    e    1    x    o  KOE1XO"
      ]
     },
     "execution_count": 110,
     "metadata": {},
     "output_type": "execute_result"
    }
   ],
   "source": [
    "df['cleaned'] = df[df.columns[1:7]].apply(''.join, axis=1)\n",
    "df['cleaned'] = df.cleaned.str.upper()\n",
    "df"
   ]
  },
  {
   "cell_type": "code",
   "execution_count": null,
   "metadata": {},
   "outputs": [],
   "source": []
  }
 ],
 "metadata": {
  "kernelspec": {
   "display_name": "PythonData",
   "language": "python",
   "name": "pythondata"
  },
  "language_info": {
   "codemirror_mode": {
    "name": "ipython",
    "version": 3
   },
   "file_extension": ".py",
   "mimetype": "text/x-python",
   "name": "python",
   "nbconvert_exporter": "python",
   "pygments_lexer": "ipython3",
   "version": "3.7.11"
  },
  "orig_nbformat": 4
 },
 "nbformat": 4,
 "nbformat_minor": 2
}
