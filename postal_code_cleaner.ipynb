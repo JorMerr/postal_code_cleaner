{
 "cells": [
  {
   "cell_type": "code",
   "execution_count": 58,
   "metadata": {},
   "outputs": [],
   "source": [
    "import re\n",
    "import pandas as pd"
   ]
  },
  {
   "cell_type": "code",
   "execution_count": 59,
   "metadata": {},
   "outputs": [],
   "source": [
    "file = input(\"Enter your relative filepath : \")"
   ]
  },
  {
   "cell_type": "code",
   "execution_count": 74,
   "metadata": {},
   "outputs": [
    {
     "name": "stdout",
     "output_type": "stream",
     "text": [
      "postalCodes    object\n",
      "dtype: object\n"
     ]
    },
    {
     "data": {
      "text/html": [
       "<div>\n",
       "<style scoped>\n",
       "    .dataframe tbody tr th:only-of-type {\n",
       "        vertical-align: middle;\n",
       "    }\n",
       "\n",
       "    .dataframe tbody tr th {\n",
       "        vertical-align: top;\n",
       "    }\n",
       "\n",
       "    .dataframe thead th {\n",
       "        text-align: right;\n",
       "    }\n",
       "</style>\n",
       "<table border=\"1\" class=\"dataframe\">\n",
       "  <thead>\n",
       "    <tr style=\"text-align: right;\">\n",
       "      <th></th>\n",
       "      <th>postalCodes</th>\n",
       "    </tr>\n",
       "  </thead>\n",
       "  <tbody>\n",
       "    <tr>\n",
       "      <th>0</th>\n",
       "      <td>K0E1X0</td>\n",
       "    </tr>\n",
       "    <tr>\n",
       "      <th>1</th>\n",
       "      <td>KOE1X0</td>\n",
       "    </tr>\n",
       "    <tr>\n",
       "      <th>2</th>\n",
       "      <td>K0E1XO</td>\n",
       "    </tr>\n",
       "    <tr>\n",
       "      <th>3</th>\n",
       "      <td>KoE1Xo</td>\n",
       "    </tr>\n",
       "    <tr>\n",
       "      <th>4</th>\n",
       "      <td>K0E 1X0</td>\n",
       "    </tr>\n",
       "    <tr>\n",
       "      <th>5</th>\n",
       "      <td>KOE 1X0</td>\n",
       "    </tr>\n",
       "    <tr>\n",
       "      <th>6</th>\n",
       "      <td>K0E 1XO</td>\n",
       "    </tr>\n",
       "    <tr>\n",
       "      <th>7</th>\n",
       "      <td>KoE 1Xo</td>\n",
       "    </tr>\n",
       "    <tr>\n",
       "      <th>8</th>\n",
       "      <td>w0e 1xo</td>\n",
       "    </tr>\n",
       "  </tbody>\n",
       "</table>\n",
       "</div>"
      ],
      "text/plain": [
       "  postalCodes\n",
       "0     K0E1X0 \n",
       "1      KOE1X0\n",
       "2      K0E1XO\n",
       "3     KoE1Xo \n",
       "4     K0E 1X0\n",
       "5     KOE 1X0\n",
       "6     K0E 1XO\n",
       "7     KoE 1Xo\n",
       "8     w0e 1xo"
      ]
     },
     "execution_count": 74,
     "metadata": {},
     "output_type": "execute_result"
    }
   ],
   "source": [
    "df = pd.read_csv(file)\n",
    "print(df.dtypes)\n",
    "df"
   ]
  },
  {
   "cell_type": "code",
   "execution_count": 75,
   "metadata": {},
   "outputs": [
    {
     "name": "stdout",
     "output_type": "stream",
     "text": [
      "7\n",
      "7\n",
      "6\n",
      "7\n",
      "7\n",
      "7\n",
      "7\n",
      "7\n",
      "7\n"
     ]
    }
   ],
   "source": [
    "for code in df['postalCodes']:\n",
    "    print(len(code))"
   ]
  },
  {
   "cell_type": "code",
   "execution_count": 76,
   "metadata": {},
   "outputs": [],
   "source": [
    "first_letter = 'abceghjklmnprstvxy'\n",
    "valid_letters = 'abceghjklmnprstvwxyz'\n",
    "valid_nums = '0123456789'\n",
    "alphPlace = [0,2,4]\n",
    "numPlace = [1,3,5]\n",
    "# print(len(first_letter))\n",
    "# print(len(valid_letters))"
   ]
  },
  {
   "cell_type": "code",
   "execution_count": 77,
   "metadata": {},
   "outputs": [
    {
     "data": {
      "text/html": [
       "<div>\n",
       "<style scoped>\n",
       "    .dataframe tbody tr th:only-of-type {\n",
       "        vertical-align: middle;\n",
       "    }\n",
       "\n",
       "    .dataframe tbody tr th {\n",
       "        vertical-align: top;\n",
       "    }\n",
       "\n",
       "    .dataframe thead th {\n",
       "        text-align: right;\n",
       "    }\n",
       "</style>\n",
       "<table border=\"1\" class=\"dataframe\">\n",
       "  <thead>\n",
       "    <tr style=\"text-align: right;\">\n",
       "      <th></th>\n",
       "      <th>postalCodes</th>\n",
       "    </tr>\n",
       "  </thead>\n",
       "  <tbody>\n",
       "    <tr>\n",
       "      <th>0</th>\n",
       "      <td>k0e1x0</td>\n",
       "    </tr>\n",
       "    <tr>\n",
       "      <th>1</th>\n",
       "      <td>koe1x0</td>\n",
       "    </tr>\n",
       "    <tr>\n",
       "      <th>2</th>\n",
       "      <td>k0e1xo</td>\n",
       "    </tr>\n",
       "    <tr>\n",
       "      <th>3</th>\n",
       "      <td>koe1xo</td>\n",
       "    </tr>\n",
       "    <tr>\n",
       "      <th>4</th>\n",
       "      <td>k0e1x0</td>\n",
       "    </tr>\n",
       "    <tr>\n",
       "      <th>5</th>\n",
       "      <td>koe1x0</td>\n",
       "    </tr>\n",
       "    <tr>\n",
       "      <th>6</th>\n",
       "      <td>k0e1xo</td>\n",
       "    </tr>\n",
       "    <tr>\n",
       "      <th>7</th>\n",
       "      <td>koe1xo</td>\n",
       "    </tr>\n",
       "    <tr>\n",
       "      <th>8</th>\n",
       "      <td>w0e1xo</td>\n",
       "    </tr>\n",
       "  </tbody>\n",
       "</table>\n",
       "</div>"
      ],
      "text/plain": [
       "  postalCodes\n",
       "0      k0e1x0\n",
       "1      koe1x0\n",
       "2      k0e1xo\n",
       "3      koe1xo\n",
       "4      k0e1x0\n",
       "5      koe1x0\n",
       "6      k0e1xo\n",
       "7      koe1xo\n",
       "8      w0e1xo"
      ]
     },
     "execution_count": 77,
     "metadata": {},
     "output_type": "execute_result"
    }
   ],
   "source": [
    "df['postalCodes'] = df.postalCodes.str.lower().str.replace(' ','')\n",
    "df"
   ]
  },
  {
   "cell_type": "code",
   "execution_count": 78,
   "metadata": {},
   "outputs": [
    {
     "name": "stdout",
     "output_type": "stream",
     "text": [
      "6\n",
      "6\n",
      "6\n",
      "6\n",
      "6\n",
      "6\n",
      "6\n",
      "6\n",
      "6\n"
     ]
    }
   ],
   "source": [
    "for code in df['postalCodes']:\n",
    "    print(len(code))"
   ]
  },
  {
   "cell_type": "code",
   "execution_count": 81,
   "metadata": {},
   "outputs": [
    {
     "name": "stdout",
     "output_type": "stream",
     "text": [
      "First of the numbers is not a valid number\n",
      "Third of the numbers is not a valid number\n",
      "First of the numbers is not a valid number\n",
      "Third of the numbers is not a valid number\n",
      "First of the numbers is not a valid number\n",
      "Third of the numbers is not a valid number\n",
      "First of the numbers is not a valid number\n",
      "Third of the numbers is not a valid number\n",
      "first letter cannot start with w or z\n",
      "Third of the numbers is not a valid number\n"
     ]
    }
   ],
   "source": [
    "# for code in df['postalCodes']:\n",
    "#     # print(len(code))\n",
    "#     if (len(code) != 6):\n",
    "#         print(\"Invalid postal Code\")\n",
    "#     if (not code[0].isalpha()):\n",
    "#         print(\"First of the letter characters is not valid letter\")\n",
    "#     if (code[0] == \"w\" or code[0] == \"z\"):\n",
    "#         print(\"first letter cannot start with w or z\")\n",
    "#     if (not code[1] in \"0123456789\"):\n",
    "#         print(\"First of the numbers is not a valid number\")\n",
    "#     if (not code[2].isalpha()):\n",
    "#         print(\"Second of the letter characters is not valid letter\")\n",
    "#     if (not code[3] in \"0123456789\"):\n",
    "#         print(\"Second of the numbers is not a valid number\")\n",
    "#     if (not code[4].isalpha()):\n",
    "#         print(\"Third of the letter characters is not valid letter\")\n",
    "#     if (not code[5] in \"0123456789\"):\n",
    "#         print(\"Third of the numbers is not a valid number\")\n",
    "    "
   ]
  },
  {
   "cell_type": "code",
   "execution_count": 65,
   "metadata": {},
   "outputs": [],
   "source": [
    "# df2 = df['postalCodes'].str.extract(r'(?P<let1>\\w)(?P<num1>\\w)(?P<let2>\\w)(?P<num2>\\w)(?P<let3>\\w)(?P<num3>\\w)')\n",
    "# print(df2.dtypes)\n",
    "# df2"
   ]
  },
  {
   "cell_type": "code",
   "execution_count": 66,
   "metadata": {},
   "outputs": [],
   "source": [
    "# df = pd.concat([df, df2], axis=1)\n",
    "# print(df.dtypes)\n",
    "# df"
   ]
  },
  {
   "cell_type": "code",
   "execution_count": 67,
   "metadata": {},
   "outputs": [],
   "source": [
    "# letters = df[['let1', 'let2', 'let3']]\n",
    "# numbers = df[['num1', 'num2', 'num3']]\n",
    "# # print(letters)\n",
    "# # print(numbers)"
   ]
  },
  {
   "cell_type": "code",
   "execution_count": 68,
   "metadata": {},
   "outputs": [],
   "source": [
    "# for (columnName, columnData) in letters.iteritems():\n",
    "#     print('Column Name : ', columnName)\n",
    "#     print('Is Letter : ', columnData.str.isalpha())"
   ]
  },
  {
   "cell_type": "code",
   "execution_count": 69,
   "metadata": {},
   "outputs": [],
   "source": [
    "# for (columnName, columnData) in numbers.iteritems():\n",
    "#     print('Column Name : ', columnName)\n",
    "#     print('Is Number : ', columnData.str.isnumeric())"
   ]
  },
  {
   "cell_type": "code",
   "execution_count": 70,
   "metadata": {},
   "outputs": [],
   "source": [
    "# columnKeys = [\"Let1\",\"Num1\",\"Let2\",\"Num2\",\"Let3\",\"Num3\"]"
   ]
  },
  {
   "cell_type": "code",
   "execution_count": 71,
   "metadata": {},
   "outputs": [],
   "source": [
    "# df['cleaned'] = df[df.columns[1:7]].apply(''.join, axis=1)\n",
    "# df['cleaned'] = df.cleaned.str.upper()\n",
    "# df"
   ]
  },
  {
   "cell_type": "code",
   "execution_count": null,
   "metadata": {},
   "outputs": [],
   "source": []
  }
 ],
 "metadata": {
  "kernelspec": {
   "display_name": "PythonData",
   "language": "python",
   "name": "pythondata"
  },
  "language_info": {
   "codemirror_mode": {
    "name": "ipython",
    "version": 3
   },
   "file_extension": ".py",
   "mimetype": "text/x-python",
   "name": "python",
   "nbconvert_exporter": "python",
   "pygments_lexer": "ipython3",
   "version": "3.7.11"
  },
  "orig_nbformat": 4
 },
 "nbformat": 4,
 "nbformat_minor": 2
}
